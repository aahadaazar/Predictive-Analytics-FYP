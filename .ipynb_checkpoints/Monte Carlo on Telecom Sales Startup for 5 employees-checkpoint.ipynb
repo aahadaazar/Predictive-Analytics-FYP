{
 "cells": [
  {
   "cell_type": "code",
   "execution_count": 1,
   "metadata": {},
   "outputs": [],
   "source": [
    "%config IPCompleter.greedy=True\n",
    "import pandas as pd\n",
    "import numpy as np\n",
    "import matplotlib.pyplot as plt"
   ]
  },
  {
   "cell_type": "code",
   "execution_count": 2,
   "metadata": {},
   "outputs": [],
   "source": [
    "avg = 1\n",
    "stdDev = .1\n",
    "numReps = 5\n",
    "numSimulations = 1000"
   ]
  },
  {
   "cell_type": "code",
   "execution_count": 22,
   "metadata": {},
   "outputs": [
    {
     "data": {
      "image/png": "[encoded data removed]",
      "text/plain": [
       "<Figure size 1080x432 with 1 Axes>"
      ]
     },
     "metadata": {
      "needs_background": "light"
     },
     "output_type": "display_data"
    }
   ],
   "source": [
    "pctToTarget = np.random.normal(avg, stdDev, numReps).round(2)\n",
    "salesTargetValues = [100000, 200000, 500000, 400000, 500000]\n",
    "representatives = ['A', 'B', 'C', 'D', 'E']\n",
    "salesTargetProb = [.3, .3, .2, .15, .05]\n",
    "salesTarget = np.random.choice(salesTargetValues, numReps, p=salesTargetProb)\n",
    "plt.figure(figsize=(15,6))\n",
    "plt.bar(representatives, salesTargetValues, color = 'blue', edgecolor = 'black',)\n",
    "plt.title(\"Sales Target frequency graph for present data\")\n",
    "plt.xlabel(\"Representatives\")\n",
    "plt.ylabel(\"Sales Target\")\n",
    "\n",
    "presentDataFrame = pd.DataFrame(index=range(numReps), data={'representatives': representatives,\n",
    "                                               'salesTargetValues': salesTargetValues})\n",
    "presentDataFrame\n",
    "# export_csv = presentDataFrame.to_csv (r'C:\\Users\\Aahad\\Desktop\\FYP\\Phase 1 CSVs\\5 Employees\\salesfrequency.csv', \n",
    "#                                       index = None, header=True)\n",
    "export_json = presentDataFrame.to_json(r'C:\\Users\\Aahad\\Desktop\\FYP\\Phase 1 CSVs\\5 Employees\\salesfrequency.json')"
   ]
  },
  {
   "cell_type": "code",
   "execution_count": 11,
   "metadata": {},
   "outputs": [
    {
     "data": {
      "text/html": [
       "<div>\n",
       "<style scoped>\n",
       "    .dataframe tbody tr th:only-of-type {\n",
       "        vertical-align: middle;\n",
       "    }\n",
       "\n",
       "    .dataframe tbody tr th {\n",
       "        vertical-align: top;\n",
       "    }\n",
       "\n",
       "    .dataframe thead th {\n",
       "        text-align: right;\n",
       "    }\n",
       "</style>\n",
       "<table border=\"1\" class=\"dataframe\">\n",
       "  <thead>\n",
       "    <tr style=\"text-align: right;\">\n",
       "      <th></th>\n",
       "      <th>Pct To Target</th>\n",
       "      <th>Sales Target</th>\n",
       "      <th>Sales</th>\n",
       "    </tr>\n",
       "  </thead>\n",
       "  <tbody>\n",
       "    <tr>\n",
       "      <td>0</td>\n",
       "      <td>0.87</td>\n",
       "      <td>500000</td>\n",
       "      <td>435000.0</td>\n",
       "    </tr>\n",
       "    <tr>\n",
       "      <td>1</td>\n",
       "      <td>1.06</td>\n",
       "      <td>400000</td>\n",
       "      <td>424000.0</td>\n",
       "    </tr>\n",
       "    <tr>\n",
       "      <td>2</td>\n",
       "      <td>1.12</td>\n",
       "      <td>100000</td>\n",
       "      <td>112000.0</td>\n",
       "    </tr>\n",
       "    <tr>\n",
       "      <td>3</td>\n",
       "      <td>1.08</td>\n",
       "      <td>100000</td>\n",
       "      <td>108000.0</td>\n",
       "    </tr>\n",
       "    <tr>\n",
       "      <td>4</td>\n",
       "      <td>0.86</td>\n",
       "      <td>200000</td>\n",
       "      <td>172000.0</td>\n",
       "    </tr>\n",
       "  </tbody>\n",
       "</table>\n",
       "</div>"
      ],
      "text/plain": [
       "   Pct To Target  Sales Target     Sales\n",
       "0           0.87        500000  435000.0\n",
       "1           1.06        400000  424000.0\n",
       "2           1.12        100000  112000.0\n",
       "3           1.08        100000  108000.0\n",
       "4           0.86        200000  172000.0"
      ]
     },
     "execution_count": 11,
     "metadata": {},
     "output_type": "execute_result"
    }
   ],
   "source": [
    "df = pd.DataFrame(index=range(numReps), data={'Pct To Target': pctToTarget,\n",
    "                                               'Sales Target': salesTarget})\n",
    "\n",
    "df['Sales'] = df['Pct To Target'] * df['Sales Target']\n",
    "df"
   ]
  },
  {
   "cell_type": "code",
   "execution_count": 5,
   "metadata": {},
   "outputs": [],
   "source": [
    "def calc_commission_rate(x):\n",
    "    if x <= .90:\n",
    "        return .02\n",
    "    if x <= .99:\n",
    "        return .03\n",
    "    else:\n",
    "        return .04"
   ]
  },
  {
   "cell_type": "code",
   "execution_count": 12,
   "metadata": {},
   "outputs": [
    {
     "data": {
      "text/plain": [
       "37900.0"
      ]
     },
     "execution_count": 12,
     "metadata": {},
     "output_type": "execute_result"
    }
   ],
   "source": [
    "df['Commission Rate'] = df['Pct To Target'].apply(calc_commission_rate)\n",
    "df['Commission Amount'] = df['Commission Rate'] * df['Sales']\n",
    "df\n",
    "df['Commission Amount'].sum()"
   ]
  },
  {
   "cell_type": "code",
   "execution_count": 7,
   "metadata": {},
   "outputs": [],
   "source": [
    "all_stats = []\n",
    "\n",
    "for i in range(numSimulations):\n",
    "    salesTarget = np.random.choice(salesTargetValues, numReps, p=salesTargetProb)\n",
    "\n",
    "    pctToTarget = np.random.normal(avg, stdDev, numReps).round(2)\n",
    "\n",
    "    df = pd.DataFrame(index=range(numReps), data={'Pct To Target': pctToTarget,\n",
    "                                                   'Sales Target': salesTarget})\n",
    "\n",
    "    df['Sales'] = df['Pct To Target'] * df['Sales Target']\n",
    "    df['Commission Rate'] = df['Pct To Target'].apply(calc_commission_rate)\n",
    "    df['Commission Amount'] = df['Commission Rate'] * df['Sales']\n",
    "\n",
    "    all_stats.append([df['Sales'].sum().round(0),\n",
    "                      df['Commission Amount'].sum().round(0),\n",
    "                      df['Sales Target'].sum().round(0)])"
   ]
  },
  {
   "cell_type": "code",
   "execution_count": 8,
   "metadata": {
    "scrolled": true
   },
   "outputs": [
    {
     "data": {
      "text/html": [
       "<style  type=\"text/css\" >\n",
       "</style><table id=\"T_ff8ea88c_5641_11ea_b421_b44bd6e1b963\" ><thead>    <tr>        <th class=\"blank level0\" ></th>        <th class=\"col_heading level0 col0\" >Sales</th>        <th class=\"col_heading level0 col1\" >Commission Amount</th>        <th class=\"col_heading level0 col2\" >Sales Target</th>    </tr></thead><tbody>\n",
       "                <tr>\n",
       "                        <th id=\"T_ff8ea88c_5641_11ea_b421_b44bd6e1b963level0_row0\" class=\"row_heading level0 row0\" >count</th>\n",
       "                        <td id=\"T_ff8ea88c_5641_11ea_b421_b44bd6e1b963row0_col0\" class=\"data row0 col0\" >1,000.0</td>\n",
       "                        <td id=\"T_ff8ea88c_5641_11ea_b421_b44bd6e1b963row0_col1\" class=\"data row0 col1\" >1,000.0</td>\n",
       "                        <td id=\"T_ff8ea88c_5641_11ea_b421_b44bd6e1b963row0_col2\" class=\"data row0 col2\" >1,000.0</td>\n",
       "            </tr>\n",
       "            <tr>\n",
       "                        <th id=\"T_ff8ea88c_5641_11ea_b421_b44bd6e1b963level0_row1\" class=\"row_heading level0 row1\" >mean</th>\n",
       "                        <td id=\"T_ff8ea88c_5641_11ea_b421_b44bd6e1b963row1_col0\" class=\"data row1 col0\" >1,386,958.0</td>\n",
       "                        <td id=\"T_ff8ea88c_5641_11ea_b421_b44bd6e1b963row1_col1\" class=\"data row1 col1\" >47,302.07</td>\n",
       "                        <td id=\"T_ff8ea88c_5641_11ea_b421_b44bd6e1b963row1_col2\" class=\"data row1 col2\" >1,387,700.0</td>\n",
       "            </tr>\n",
       "            <tr>\n",
       "                        <th id=\"T_ff8ea88c_5641_11ea_b421_b44bd6e1b963level0_row2\" class=\"row_heading level0 row2\" >std</th>\n",
       "                        <td id=\"T_ff8ea88c_5641_11ea_b421_b44bd6e1b963row2_col0\" class=\"data row2 col0\" >369,078.58951887366</td>\n",
       "                        <td id=\"T_ff8ea88c_5641_11ea_b421_b44bd6e1b963row2_col1\" class=\"data row2 col1\" >14,548.946142210743</td>\n",
       "                        <td id=\"T_ff8ea88c_5641_11ea_b421_b44bd6e1b963row2_col2\" class=\"data row2 col2\" >360,789.2444057595</td>\n",
       "            </tr>\n",
       "            <tr>\n",
       "                        <th id=\"T_ff8ea88c_5641_11ea_b421_b44bd6e1b963level0_row3\" class=\"row_heading level0 row3\" >min</th>\n",
       "                        <td id=\"T_ff8ea88c_5641_11ea_b421_b44bd6e1b963row3_col0\" class=\"data row3 col0\" >489,000.0</td>\n",
       "                        <td id=\"T_ff8ea88c_5641_11ea_b421_b44bd6e1b963row3_col1\" class=\"data row3 col1\" >15,970.0</td>\n",
       "                        <td id=\"T_ff8ea88c_5641_11ea_b421_b44bd6e1b963row3_col2\" class=\"data row3 col2\" >500,000.0</td>\n",
       "            </tr>\n",
       "            <tr>\n",
       "                        <th id=\"T_ff8ea88c_5641_11ea_b421_b44bd6e1b963level0_row4\" class=\"row_heading level0 row4\" >25%</th>\n",
       "                        <td id=\"T_ff8ea88c_5641_11ea_b421_b44bd6e1b963row4_col0\" class=\"data row4 col0\" >1,111,250.0</td>\n",
       "                        <td id=\"T_ff8ea88c_5641_11ea_b421_b44bd6e1b963row4_col1\" class=\"data row4 col1\" >36,337.5</td>\n",
       "                        <td id=\"T_ff8ea88c_5641_11ea_b421_b44bd6e1b963row4_col2\" class=\"data row4 col2\" >1,100,000.0</td>\n",
       "            </tr>\n",
       "            <tr>\n",
       "                        <th id=\"T_ff8ea88c_5641_11ea_b421_b44bd6e1b963level0_row5\" class=\"row_heading level0 row5\" >50%</th>\n",
       "                        <td id=\"T_ff8ea88c_5641_11ea_b421_b44bd6e1b963row5_col0\" class=\"data row5 col0\" >1,382,000.0</td>\n",
       "                        <td id=\"T_ff8ea88c_5641_11ea_b421_b44bd6e1b963row5_col1\" class=\"data row5 col1\" >46,290.0</td>\n",
       "                        <td id=\"T_ff8ea88c_5641_11ea_b421_b44bd6e1b963row5_col2\" class=\"data row5 col2\" >1,400,000.0</td>\n",
       "            </tr>\n",
       "            <tr>\n",
       "                        <th id=\"T_ff8ea88c_5641_11ea_b421_b44bd6e1b963level0_row6\" class=\"row_heading level0 row6\" >75%</th>\n",
       "                        <td id=\"T_ff8ea88c_5641_11ea_b421_b44bd6e1b963row6_col0\" class=\"data row6 col0\" >1,647,250.0</td>\n",
       "                        <td id=\"T_ff8ea88c_5641_11ea_b421_b44bd6e1b963row6_col1\" class=\"data row6 col1\" >56,862.5</td>\n",
       "                        <td id=\"T_ff8ea88c_5641_11ea_b421_b44bd6e1b963row6_col2\" class=\"data row6 col2\" >1,600,000.0</td>\n",
       "            </tr>\n",
       "            <tr>\n",
       "                        <th id=\"T_ff8ea88c_5641_11ea_b421_b44bd6e1b963level0_row7\" class=\"row_heading level0 row7\" >max</th>\n",
       "                        <td id=\"T_ff8ea88c_5641_11ea_b421_b44bd6e1b963row7_col0\" class=\"data row7 col0\" >2,675,000.0</td>\n",
       "                        <td id=\"T_ff8ea88c_5641_11ea_b421_b44bd6e1b963row7_col1\" class=\"data row7 col1\" >98,200.0</td>\n",
       "                        <td id=\"T_ff8ea88c_5641_11ea_b421_b44bd6e1b963row7_col2\" class=\"data row7 col2\" >2,500,000.0</td>\n",
       "            </tr>\n",
       "    </tbody></table>"
      ],
      "text/plain": [
       "<pandas.io.formats.style.Styler at 0x14343a46308>"
      ]
     },
     "execution_count": 8,
     "metadata": {},
     "output_type": "execute_result"
    }
   ],
   "source": [
    "resultsDf = pd.DataFrame.from_records(all_stats, columns=['Sales',\n",
    "                                                           'Commission Amount',\n",
    "                                                           'Sales Target'])\n",
    "resultsDf.describe().style.format('{:,}')"
   ]
  },
  {
   "cell_type": "code",
   "execution_count": 9,
   "metadata": {},
   "outputs": [
    {
     "data": {
      "image/png": "[encoded data removed]",
      "text/plain": [
       "<Figure size 1080x432 with 1 Axes>"
      ]
     },
     "metadata": {
      "needs_background": "light"
     },
     "output_type": "display_data"
    }
   ],
   "source": [
    "plt.figure(figsize=(15,6))\n",
    "plt.title('Histogram of Commission Amount')\n",
    "plt.xlabel('Commission')\n",
    "plt.ylabel('Frequency')\n",
    "plt.hist(resultsDf['Commission Amount'], color = 'blue', edgecolor = 'black',\n",
    "         bins = int(len(resultsDf['Commission Amount'])/100));"
   ]
  },
  {
   "cell_type": "code",
   "execution_count": null,
   "metadata": {},
   "outputs": [],
   "source": []
  }
 ],
 "metadata": {
  "kernelspec": {
   "display_name": "Python 3",
   "language": "python",
   "name": "python3"
  },
  "language_info": {
   "codemirror_mode": {
    "name": "ipython",
    "version": 3
   },
   "file_extension": ".py",
   "mimetype": "text/x-python",
   "name": "python",
   "nbconvert_exporter": "python",
   "pygments_lexer": "ipython3",
   "version": "3.7.4"
  }
 },
 "nbformat": 4,
 "nbformat_minor": 2
}
